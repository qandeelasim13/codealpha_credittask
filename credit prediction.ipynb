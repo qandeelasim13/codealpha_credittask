{
 "cells": [
  {
   "cell_type": "code",
   "execution_count": 1,
   "id": "acf856fb",
   "metadata": {},
   "outputs": [],
   "source": [
    "import pandas as pd\n",
    "from sklearn.model_selection import train_test_split\n",
    "from sklearn.preprocessing import LabelEncoder, StandardScaler\n",
    "from sklearn.ensemble import RandomForestClassifier\n",
    "from sklearn.metrics import classification_report, roc_auc_score\n"
   ]
  },
  {
   "cell_type": "markdown",
   "id": "7544a6f5",
   "metadata": {},
   "source": [
    "# data loading"
   ]
  },
  {
   "cell_type": "code",
   "execution_count": 3,
   "id": "3f7005a4",
   "metadata": {},
   "outputs": [
    {
     "data": {
      "text/html": [
       "<div>\n",
       "<style scoped>\n",
       "    .dataframe tbody tr th:only-of-type {\n",
       "        vertical-align: middle;\n",
       "    }\n",
       "\n",
       "    .dataframe tbody tr th {\n",
       "        vertical-align: top;\n",
       "    }\n",
       "\n",
       "    .dataframe thead th {\n",
       "        text-align: right;\n",
       "    }\n",
       "</style>\n",
       "<table border=\"1\" class=\"dataframe\">\n",
       "  <thead>\n",
       "    <tr style=\"text-align: right;\">\n",
       "      <th></th>\n",
       "      <th>Age</th>\n",
       "      <th>Income</th>\n",
       "      <th>Debts</th>\n",
       "      <th>Payment_History</th>\n",
       "      <th>Credit_Score</th>\n",
       "      <th>Loan_Amount</th>\n",
       "      <th>Loan_Purpose</th>\n",
       "      <th>Employment_Status</th>\n",
       "      <th>Marital_Status</th>\n",
       "      <th>Defaulted</th>\n",
       "    </tr>\n",
       "  </thead>\n",
       "  <tbody>\n",
       "    <tr>\n",
       "      <th>0</th>\n",
       "      <td>33</td>\n",
       "      <td>46555</td>\n",
       "      <td>46090</td>\n",
       "      <td>No history</td>\n",
       "      <td>787</td>\n",
       "      <td>43139</td>\n",
       "      <td>Home</td>\n",
       "      <td>Retired</td>\n",
       "      <td>Widowed</td>\n",
       "      <td>1</td>\n",
       "    </tr>\n",
       "    <tr>\n",
       "      <th>1</th>\n",
       "      <td>41</td>\n",
       "      <td>54526</td>\n",
       "      <td>4930</td>\n",
       "      <td>Late</td>\n",
       "      <td>698</td>\n",
       "      <td>35978</td>\n",
       "      <td>Home</td>\n",
       "      <td>Unemployed</td>\n",
       "      <td>Single</td>\n",
       "      <td>1</td>\n",
       "    </tr>\n",
       "    <tr>\n",
       "      <th>2</th>\n",
       "      <td>62</td>\n",
       "      <td>79956</td>\n",
       "      <td>36687</td>\n",
       "      <td>Missed</td>\n",
       "      <td>797</td>\n",
       "      <td>48501</td>\n",
       "      <td>Medical</td>\n",
       "      <td>Retired</td>\n",
       "      <td>Married</td>\n",
       "      <td>0</td>\n",
       "    </tr>\n",
       "    <tr>\n",
       "      <th>3</th>\n",
       "      <td>43</td>\n",
       "      <td>52520</td>\n",
       "      <td>39467</td>\n",
       "      <td>Missed</td>\n",
       "      <td>694</td>\n",
       "      <td>24795</td>\n",
       "      <td>Education</td>\n",
       "      <td>Unemployed</td>\n",
       "      <td>Married</td>\n",
       "      <td>1</td>\n",
       "    </tr>\n",
       "    <tr>\n",
       "      <th>4</th>\n",
       "      <td>32</td>\n",
       "      <td>85756</td>\n",
       "      <td>47655</td>\n",
       "      <td>No history</td>\n",
       "      <td>840</td>\n",
       "      <td>14702</td>\n",
       "      <td>Medical</td>\n",
       "      <td>Student</td>\n",
       "      <td>Widowed</td>\n",
       "      <td>1</td>\n",
       "    </tr>\n",
       "    <tr>\n",
       "      <th>5</th>\n",
       "      <td>35</td>\n",
       "      <td>35680</td>\n",
       "      <td>20892</td>\n",
       "      <td>No history</td>\n",
       "      <td>309</td>\n",
       "      <td>25184</td>\n",
       "      <td>Education</td>\n",
       "      <td>Student</td>\n",
       "      <td>Widowed</td>\n",
       "      <td>1</td>\n",
       "    </tr>\n",
       "    <tr>\n",
       "      <th>6</th>\n",
       "      <td>22</td>\n",
       "      <td>121845</td>\n",
       "      <td>37714</td>\n",
       "      <td>Late</td>\n",
       "      <td>784</td>\n",
       "      <td>17382</td>\n",
       "      <td>Personal</td>\n",
       "      <td>Student</td>\n",
       "      <td>Widowed</td>\n",
       "      <td>0</td>\n",
       "    </tr>\n",
       "    <tr>\n",
       "      <th>7</th>\n",
       "      <td>36</td>\n",
       "      <td>72726</td>\n",
       "      <td>23402</td>\n",
       "      <td>Late</td>\n",
       "      <td>740</td>\n",
       "      <td>30741</td>\n",
       "      <td>Medical</td>\n",
       "      <td>Self-Employed</td>\n",
       "      <td>Widowed</td>\n",
       "      <td>1</td>\n",
       "    </tr>\n",
       "    <tr>\n",
       "      <th>8</th>\n",
       "      <td>32</td>\n",
       "      <td>47009</td>\n",
       "      <td>39893</td>\n",
       "      <td>On-time</td>\n",
       "      <td>405</td>\n",
       "      <td>18525</td>\n",
       "      <td>Education</td>\n",
       "      <td>Employed</td>\n",
       "      <td>Widowed</td>\n",
       "      <td>0</td>\n",
       "    </tr>\n",
       "    <tr>\n",
       "      <th>9</th>\n",
       "      <td>40</td>\n",
       "      <td>106535</td>\n",
       "      <td>8006</td>\n",
       "      <td>On-time</td>\n",
       "      <td>674</td>\n",
       "      <td>6146</td>\n",
       "      <td>Auto</td>\n",
       "      <td>Retired</td>\n",
       "      <td>Married</td>\n",
       "      <td>0</td>\n",
       "    </tr>\n",
       "    <tr>\n",
       "      <th>10</th>\n",
       "      <td>33</td>\n",
       "      <td>127607</td>\n",
       "      <td>33906</td>\n",
       "      <td>No history</td>\n",
       "      <td>583</td>\n",
       "      <td>22390</td>\n",
       "      <td>Education</td>\n",
       "      <td>Employed</td>\n",
       "      <td>Divorced</td>\n",
       "      <td>0</td>\n",
       "    </tr>\n",
       "    <tr>\n",
       "      <th>11</th>\n",
       "      <td>30</td>\n",
       "      <td>42427</td>\n",
       "      <td>36384</td>\n",
       "      <td>No history</td>\n",
       "      <td>778</td>\n",
       "      <td>18888</td>\n",
       "      <td>Medical</td>\n",
       "      <td>Student</td>\n",
       "      <td>Widowed</td>\n",
       "      <td>0</td>\n",
       "    </tr>\n",
       "    <tr>\n",
       "      <th>12</th>\n",
       "      <td>60</td>\n",
       "      <td>133573</td>\n",
       "      <td>23500</td>\n",
       "      <td>Late</td>\n",
       "      <td>769</td>\n",
       "      <td>28613</td>\n",
       "      <td>Auto</td>\n",
       "      <td>Student</td>\n",
       "      <td>Married</td>\n",
       "      <td>0</td>\n",
       "    </tr>\n",
       "    <tr>\n",
       "      <th>13</th>\n",
       "      <td>30</td>\n",
       "      <td>26402</td>\n",
       "      <td>30263</td>\n",
       "      <td>On-time</td>\n",
       "      <td>818</td>\n",
       "      <td>11580</td>\n",
       "      <td>Personal</td>\n",
       "      <td>Unemployed</td>\n",
       "      <td>Divorced</td>\n",
       "      <td>1</td>\n",
       "    </tr>\n",
       "    <tr>\n",
       "      <th>14</th>\n",
       "      <td>60</td>\n",
       "      <td>126584</td>\n",
       "      <td>48912</td>\n",
       "      <td>Late</td>\n",
       "      <td>358</td>\n",
       "      <td>49213</td>\n",
       "      <td>Medical</td>\n",
       "      <td>Self-Employed</td>\n",
       "      <td>Single</td>\n",
       "      <td>0</td>\n",
       "    </tr>\n",
       "    <tr>\n",
       "      <th>15</th>\n",
       "      <td>36</td>\n",
       "      <td>144640</td>\n",
       "      <td>19790</td>\n",
       "      <td>Late</td>\n",
       "      <td>441</td>\n",
       "      <td>17456</td>\n",
       "      <td>Home</td>\n",
       "      <td>Student</td>\n",
       "      <td>Single</td>\n",
       "      <td>0</td>\n",
       "    </tr>\n",
       "    <tr>\n",
       "      <th>16</th>\n",
       "      <td>26</td>\n",
       "      <td>65713</td>\n",
       "      <td>44599</td>\n",
       "      <td>Missed</td>\n",
       "      <td>329</td>\n",
       "      <td>17121</td>\n",
       "      <td>Medical</td>\n",
       "      <td>Unemployed</td>\n",
       "      <td>Divorced</td>\n",
       "      <td>0</td>\n",
       "    </tr>\n",
       "    <tr>\n",
       "      <th>17</th>\n",
       "      <td>63</td>\n",
       "      <td>114566</td>\n",
       "      <td>34304</td>\n",
       "      <td>No history</td>\n",
       "      <td>685</td>\n",
       "      <td>18735</td>\n",
       "      <td>Auto</td>\n",
       "      <td>Student</td>\n",
       "      <td>Married</td>\n",
       "      <td>0</td>\n",
       "    </tr>\n",
       "    <tr>\n",
       "      <th>18</th>\n",
       "      <td>64</td>\n",
       "      <td>80169</td>\n",
       "      <td>47941</td>\n",
       "      <td>No history</td>\n",
       "      <td>337</td>\n",
       "      <td>11399</td>\n",
       "      <td>Auto</td>\n",
       "      <td>Retired</td>\n",
       "      <td>Widowed</td>\n",
       "      <td>0</td>\n",
       "    </tr>\n",
       "    <tr>\n",
       "      <th>19</th>\n",
       "      <td>54</td>\n",
       "      <td>110879</td>\n",
       "      <td>40131</td>\n",
       "      <td>Late</td>\n",
       "      <td>385</td>\n",
       "      <td>48735</td>\n",
       "      <td>Home</td>\n",
       "      <td>Self-Employed</td>\n",
       "      <td>Divorced</td>\n",
       "      <td>1</td>\n",
       "    </tr>\n",
       "    <tr>\n",
       "      <th>20</th>\n",
       "      <td>49</td>\n",
       "      <td>61819</td>\n",
       "      <td>25112</td>\n",
       "      <td>On-time</td>\n",
       "      <td>614</td>\n",
       "      <td>39360</td>\n",
       "      <td>Medical</td>\n",
       "      <td>Student</td>\n",
       "      <td>Single</td>\n",
       "      <td>1</td>\n",
       "    </tr>\n",
       "    <tr>\n",
       "      <th>21</th>\n",
       "      <td>31</td>\n",
       "      <td>98868</td>\n",
       "      <td>34214</td>\n",
       "      <td>Missed</td>\n",
       "      <td>558</td>\n",
       "      <td>32880</td>\n",
       "      <td>Home</td>\n",
       "      <td>Retired</td>\n",
       "      <td>Divorced</td>\n",
       "      <td>0</td>\n",
       "    </tr>\n",
       "    <tr>\n",
       "      <th>22</th>\n",
       "      <td>37</td>\n",
       "      <td>122669</td>\n",
       "      <td>34136</td>\n",
       "      <td>Missed</td>\n",
       "      <td>389</td>\n",
       "      <td>37075</td>\n",
       "      <td>Medical</td>\n",
       "      <td>Self-Employed</td>\n",
       "      <td>Divorced</td>\n",
       "      <td>0</td>\n",
       "    </tr>\n",
       "    <tr>\n",
       "      <th>23</th>\n",
       "      <td>54</td>\n",
       "      <td>65879</td>\n",
       "      <td>24749</td>\n",
       "      <td>No history</td>\n",
       "      <td>374</td>\n",
       "      <td>7397</td>\n",
       "      <td>Auto</td>\n",
       "      <td>Employed</td>\n",
       "      <td>Divorced</td>\n",
       "      <td>1</td>\n",
       "    </tr>\n",
       "    <tr>\n",
       "      <th>24</th>\n",
       "      <td>45</td>\n",
       "      <td>149997</td>\n",
       "      <td>26011</td>\n",
       "      <td>Late</td>\n",
       "      <td>527</td>\n",
       "      <td>30662</td>\n",
       "      <td>Personal</td>\n",
       "      <td>Employed</td>\n",
       "      <td>Single</td>\n",
       "      <td>0</td>\n",
       "    </tr>\n",
       "    <tr>\n",
       "      <th>25</th>\n",
       "      <td>27</td>\n",
       "      <td>67958</td>\n",
       "      <td>23660</td>\n",
       "      <td>Late</td>\n",
       "      <td>819</td>\n",
       "      <td>41651</td>\n",
       "      <td>Auto</td>\n",
       "      <td>Student</td>\n",
       "      <td>Widowed</td>\n",
       "      <td>1</td>\n",
       "    </tr>\n",
       "    <tr>\n",
       "      <th>26</th>\n",
       "      <td>57</td>\n",
       "      <td>117540</td>\n",
       "      <td>34137</td>\n",
       "      <td>On-time</td>\n",
       "      <td>389</td>\n",
       "      <td>43208</td>\n",
       "      <td>Home</td>\n",
       "      <td>Retired</td>\n",
       "      <td>Divorced</td>\n",
       "      <td>1</td>\n",
       "    </tr>\n",
       "    <tr>\n",
       "      <th>27</th>\n",
       "      <td>21</td>\n",
       "      <td>44593</td>\n",
       "      <td>47575</td>\n",
       "      <td>Missed</td>\n",
       "      <td>703</td>\n",
       "      <td>12390</td>\n",
       "      <td>Education</td>\n",
       "      <td>Student</td>\n",
       "      <td>Divorced</td>\n",
       "      <td>1</td>\n",
       "    </tr>\n",
       "    <tr>\n",
       "      <th>28</th>\n",
       "      <td>56</td>\n",
       "      <td>113517</td>\n",
       "      <td>45067</td>\n",
       "      <td>On-time</td>\n",
       "      <td>783</td>\n",
       "      <td>10115</td>\n",
       "      <td>Medical</td>\n",
       "      <td>Self-Employed</td>\n",
       "      <td>Single</td>\n",
       "      <td>0</td>\n",
       "    </tr>\n",
       "    <tr>\n",
       "      <th>29</th>\n",
       "      <td>60</td>\n",
       "      <td>146556</td>\n",
       "      <td>3100</td>\n",
       "      <td>No history</td>\n",
       "      <td>578</td>\n",
       "      <td>24958</td>\n",
       "      <td>Education</td>\n",
       "      <td>Retired</td>\n",
       "      <td>Divorced</td>\n",
       "      <td>0</td>\n",
       "    </tr>\n",
       "  </tbody>\n",
       "</table>\n",
       "</div>"
      ],
      "text/plain": [
       "    Age  Income  Debts Payment_History  Credit_Score  Loan_Amount  \\\n",
       "0    33   46555  46090      No history           787        43139   \n",
       "1    41   54526   4930            Late           698        35978   \n",
       "2    62   79956  36687          Missed           797        48501   \n",
       "3    43   52520  39467          Missed           694        24795   \n",
       "4    32   85756  47655      No history           840        14702   \n",
       "5    35   35680  20892      No history           309        25184   \n",
       "6    22  121845  37714            Late           784        17382   \n",
       "7    36   72726  23402            Late           740        30741   \n",
       "8    32   47009  39893         On-time           405        18525   \n",
       "9    40  106535   8006         On-time           674         6146   \n",
       "10   33  127607  33906      No history           583        22390   \n",
       "11   30   42427  36384      No history           778        18888   \n",
       "12   60  133573  23500            Late           769        28613   \n",
       "13   30   26402  30263         On-time           818        11580   \n",
       "14   60  126584  48912            Late           358        49213   \n",
       "15   36  144640  19790            Late           441        17456   \n",
       "16   26   65713  44599          Missed           329        17121   \n",
       "17   63  114566  34304      No history           685        18735   \n",
       "18   64   80169  47941      No history           337        11399   \n",
       "19   54  110879  40131            Late           385        48735   \n",
       "20   49   61819  25112         On-time           614        39360   \n",
       "21   31   98868  34214          Missed           558        32880   \n",
       "22   37  122669  34136          Missed           389        37075   \n",
       "23   54   65879  24749      No history           374         7397   \n",
       "24   45  149997  26011            Late           527        30662   \n",
       "25   27   67958  23660            Late           819        41651   \n",
       "26   57  117540  34137         On-time           389        43208   \n",
       "27   21   44593  47575          Missed           703        12390   \n",
       "28   56  113517  45067         On-time           783        10115   \n",
       "29   60  146556   3100      No history           578        24958   \n",
       "\n",
       "   Loan_Purpose Employment_Status Marital_Status  Defaulted  \n",
       "0          Home           Retired        Widowed          1  \n",
       "1          Home        Unemployed         Single          1  \n",
       "2       Medical           Retired        Married          0  \n",
       "3     Education        Unemployed        Married          1  \n",
       "4       Medical           Student        Widowed          1  \n",
       "5     Education           Student        Widowed          1  \n",
       "6      Personal           Student        Widowed          0  \n",
       "7       Medical     Self-Employed        Widowed          1  \n",
       "8     Education          Employed        Widowed          0  \n",
       "9          Auto           Retired        Married          0  \n",
       "10    Education          Employed       Divorced          0  \n",
       "11      Medical           Student        Widowed          0  \n",
       "12         Auto           Student        Married          0  \n",
       "13     Personal        Unemployed       Divorced          1  \n",
       "14      Medical     Self-Employed         Single          0  \n",
       "15         Home           Student         Single          0  \n",
       "16      Medical        Unemployed       Divorced          0  \n",
       "17         Auto           Student        Married          0  \n",
       "18         Auto           Retired        Widowed          0  \n",
       "19         Home     Self-Employed       Divorced          1  \n",
       "20      Medical           Student         Single          1  \n",
       "21         Home           Retired       Divorced          0  \n",
       "22      Medical     Self-Employed       Divorced          0  \n",
       "23         Auto          Employed       Divorced          1  \n",
       "24     Personal          Employed         Single          0  \n",
       "25         Auto           Student        Widowed          1  \n",
       "26         Home           Retired       Divorced          1  \n",
       "27    Education           Student       Divorced          1  \n",
       "28      Medical     Self-Employed         Single          0  \n",
       "29    Education           Retired       Divorced          0  "
      ]
     },
     "execution_count": 3,
     "metadata": {},
     "output_type": "execute_result"
    }
   ],
   "source": [
    "df = pd.read_excel(\"Complex_Credit_Scoring_Dataset.xlsx\", sheet_name=\"Sheet1\")\n",
    "df = df.drop(columns=[\"Customer_ID\"])\n",
    "df.head(30)"
   ]
  },
  {
   "cell_type": "code",
   "execution_count": 5,
   "id": "28ff5ad2",
   "metadata": {},
   "outputs": [
    {
     "data": {
      "text/html": [
       "<div>\n",
       "<style scoped>\n",
       "    .dataframe tbody tr th:only-of-type {\n",
       "        vertical-align: middle;\n",
       "    }\n",
       "\n",
       "    .dataframe tbody tr th {\n",
       "        vertical-align: top;\n",
       "    }\n",
       "\n",
       "    .dataframe thead th {\n",
       "        text-align: right;\n",
       "    }\n",
       "</style>\n",
       "<table border=\"1\" class=\"dataframe\">\n",
       "  <thead>\n",
       "    <tr style=\"text-align: right;\">\n",
       "      <th></th>\n",
       "      <th>Age</th>\n",
       "      <th>Income</th>\n",
       "      <th>Debts</th>\n",
       "      <th>Payment_History</th>\n",
       "      <th>Credit_Score</th>\n",
       "      <th>Loan_Amount</th>\n",
       "      <th>Loan_Purpose</th>\n",
       "      <th>Employment_Status</th>\n",
       "      <th>Marital_Status</th>\n",
       "      <th>Defaulted</th>\n",
       "    </tr>\n",
       "  </thead>\n",
       "  <tbody>\n",
       "    <tr>\n",
       "      <th>195</th>\n",
       "      <td>34</td>\n",
       "      <td>57761</td>\n",
       "      <td>18098</td>\n",
       "      <td>No history</td>\n",
       "      <td>823</td>\n",
       "      <td>5684</td>\n",
       "      <td>Medical</td>\n",
       "      <td>Retired</td>\n",
       "      <td>Widowed</td>\n",
       "      <td>0</td>\n",
       "    </tr>\n",
       "    <tr>\n",
       "      <th>196</th>\n",
       "      <td>54</td>\n",
       "      <td>55570</td>\n",
       "      <td>19735</td>\n",
       "      <td>Missed</td>\n",
       "      <td>603</td>\n",
       "      <td>5552</td>\n",
       "      <td>Medical</td>\n",
       "      <td>Retired</td>\n",
       "      <td>Widowed</td>\n",
       "      <td>1</td>\n",
       "    </tr>\n",
       "    <tr>\n",
       "      <th>197</th>\n",
       "      <td>41</td>\n",
       "      <td>47064</td>\n",
       "      <td>3129</td>\n",
       "      <td>Late</td>\n",
       "      <td>475</td>\n",
       "      <td>11781</td>\n",
       "      <td>Auto</td>\n",
       "      <td>Self-Employed</td>\n",
       "      <td>Divorced</td>\n",
       "      <td>1</td>\n",
       "    </tr>\n",
       "    <tr>\n",
       "      <th>198</th>\n",
       "      <td>51</td>\n",
       "      <td>97117</td>\n",
       "      <td>36934</td>\n",
       "      <td>Missed</td>\n",
       "      <td>586</td>\n",
       "      <td>43194</td>\n",
       "      <td>Medical</td>\n",
       "      <td>Student</td>\n",
       "      <td>Single</td>\n",
       "      <td>1</td>\n",
       "    </tr>\n",
       "    <tr>\n",
       "      <th>199</th>\n",
       "      <td>34</td>\n",
       "      <td>28326</td>\n",
       "      <td>11272</td>\n",
       "      <td>Late</td>\n",
       "      <td>584</td>\n",
       "      <td>23625</td>\n",
       "      <td>Medical</td>\n",
       "      <td>Unemployed</td>\n",
       "      <td>Married</td>\n",
       "      <td>0</td>\n",
       "    </tr>\n",
       "  </tbody>\n",
       "</table>\n",
       "</div>"
      ],
      "text/plain": [
       "     Age  Income  Debts Payment_History  Credit_Score  Loan_Amount  \\\n",
       "195   34   57761  18098      No history           823         5684   \n",
       "196   54   55570  19735          Missed           603         5552   \n",
       "197   41   47064   3129            Late           475        11781   \n",
       "198   51   97117  36934          Missed           586        43194   \n",
       "199   34   28326  11272            Late           584        23625   \n",
       "\n",
       "    Loan_Purpose Employment_Status Marital_Status  Defaulted  \n",
       "195      Medical           Retired        Widowed          0  \n",
       "196      Medical           Retired        Widowed          1  \n",
       "197         Auto     Self-Employed       Divorced          1  \n",
       "198      Medical           Student         Single          1  \n",
       "199      Medical        Unemployed        Married          0  "
      ]
     },
     "execution_count": 5,
     "metadata": {},
     "output_type": "execute_result"
    }
   ],
   "source": [
    "df.tail()"
   ]
  },
  {
   "cell_type": "code",
   "execution_count": 7,
   "id": "91ea3738",
   "metadata": {},
   "outputs": [
    {
     "data": {
      "text/plain": [
       "(200, 10)"
      ]
     },
     "execution_count": 7,
     "metadata": {},
     "output_type": "execute_result"
    }
   ],
   "source": [
    "df.shape"
   ]
  },
  {
   "cell_type": "code",
   "execution_count": 9,
   "id": "cf7ec3d8",
   "metadata": {},
   "outputs": [
    {
     "data": {
      "text/html": [
       "<div>\n",
       "<style scoped>\n",
       "    .dataframe tbody tr th:only-of-type {\n",
       "        vertical-align: middle;\n",
       "    }\n",
       "\n",
       "    .dataframe tbody tr th {\n",
       "        vertical-align: top;\n",
       "    }\n",
       "\n",
       "    .dataframe thead th {\n",
       "        text-align: right;\n",
       "    }\n",
       "</style>\n",
       "<table border=\"1\" class=\"dataframe\">\n",
       "  <thead>\n",
       "    <tr style=\"text-align: right;\">\n",
       "      <th></th>\n",
       "      <th>Age</th>\n",
       "      <th>Income</th>\n",
       "      <th>Debts</th>\n",
       "      <th>Payment_History</th>\n",
       "      <th>Credit_Score</th>\n",
       "      <th>Loan_Amount</th>\n",
       "      <th>Loan_Purpose</th>\n",
       "      <th>Employment_Status</th>\n",
       "      <th>Marital_Status</th>\n",
       "      <th>Defaulted</th>\n",
       "    </tr>\n",
       "  </thead>\n",
       "  <tbody>\n",
       "    <tr>\n",
       "      <th>40</th>\n",
       "      <td>46</td>\n",
       "      <td>84419</td>\n",
       "      <td>5052</td>\n",
       "      <td>No history</td>\n",
       "      <td>676</td>\n",
       "      <td>38403</td>\n",
       "      <td>Education</td>\n",
       "      <td>Retired</td>\n",
       "      <td>Single</td>\n",
       "      <td>1</td>\n",
       "    </tr>\n",
       "    <tr>\n",
       "      <th>198</th>\n",
       "      <td>51</td>\n",
       "      <td>97117</td>\n",
       "      <td>36934</td>\n",
       "      <td>Missed</td>\n",
       "      <td>586</td>\n",
       "      <td>43194</td>\n",
       "      <td>Medical</td>\n",
       "      <td>Student</td>\n",
       "      <td>Single</td>\n",
       "      <td>1</td>\n",
       "    </tr>\n",
       "    <tr>\n",
       "      <th>7</th>\n",
       "      <td>36</td>\n",
       "      <td>72726</td>\n",
       "      <td>23402</td>\n",
       "      <td>Late</td>\n",
       "      <td>740</td>\n",
       "      <td>30741</td>\n",
       "      <td>Medical</td>\n",
       "      <td>Self-Employed</td>\n",
       "      <td>Widowed</td>\n",
       "      <td>1</td>\n",
       "    </tr>\n",
       "    <tr>\n",
       "      <th>97</th>\n",
       "      <td>65</td>\n",
       "      <td>93622</td>\n",
       "      <td>45417</td>\n",
       "      <td>On-time</td>\n",
       "      <td>481</td>\n",
       "      <td>47742</td>\n",
       "      <td>Education</td>\n",
       "      <td>Retired</td>\n",
       "      <td>Divorced</td>\n",
       "      <td>1</td>\n",
       "    </tr>\n",
       "    <tr>\n",
       "      <th>52</th>\n",
       "      <td>63</td>\n",
       "      <td>132317</td>\n",
       "      <td>15614</td>\n",
       "      <td>No history</td>\n",
       "      <td>312</td>\n",
       "      <td>32785</td>\n",
       "      <td>Home</td>\n",
       "      <td>Student</td>\n",
       "      <td>Single</td>\n",
       "      <td>0</td>\n",
       "    </tr>\n",
       "  </tbody>\n",
       "</table>\n",
       "</div>"
      ],
      "text/plain": [
       "     Age  Income  Debts Payment_History  Credit_Score  Loan_Amount  \\\n",
       "40    46   84419   5052      No history           676        38403   \n",
       "198   51   97117  36934          Missed           586        43194   \n",
       "7     36   72726  23402            Late           740        30741   \n",
       "97    65   93622  45417         On-time           481        47742   \n",
       "52    63  132317  15614      No history           312        32785   \n",
       "\n",
       "    Loan_Purpose Employment_Status Marital_Status  Defaulted  \n",
       "40     Education           Retired         Single          1  \n",
       "198      Medical           Student         Single          1  \n",
       "7        Medical     Self-Employed        Widowed          1  \n",
       "97     Education           Retired       Divorced          1  \n",
       "52          Home           Student         Single          0  "
      ]
     },
     "execution_count": 9,
     "metadata": {},
     "output_type": "execute_result"
    }
   ],
   "source": [
    "df.sample(5)"
   ]
  },
  {
   "cell_type": "code",
   "execution_count": 10,
   "id": "785da60a",
   "metadata": {},
   "outputs": [
    {
     "name": "stdout",
     "output_type": "stream",
     "text": [
      "<class 'pandas.core.frame.DataFrame'>\n",
      "RangeIndex: 200 entries, 0 to 199\n",
      "Data columns (total 10 columns):\n",
      " #   Column             Non-Null Count  Dtype \n",
      "---  ------             --------------  ----- \n",
      " 0   Age                200 non-null    int64 \n",
      " 1   Income             200 non-null    int64 \n",
      " 2   Debts              200 non-null    int64 \n",
      " 3   Payment_History    200 non-null    object\n",
      " 4   Credit_Score       200 non-null    int64 \n",
      " 5   Loan_Amount        200 non-null    int64 \n",
      " 6   Loan_Purpose       200 non-null    object\n",
      " 7   Employment_Status  200 non-null    object\n",
      " 8   Marital_Status     200 non-null    object\n",
      " 9   Defaulted          200 non-null    int64 \n",
      "dtypes: int64(6), object(4)\n",
      "memory usage: 15.8+ KB\n"
     ]
    }
   ],
   "source": [
    "df.info()"
   ]
  },
  {
   "cell_type": "code",
   "execution_count": 11,
   "id": "edd1ccbb",
   "metadata": {},
   "outputs": [
    {
     "data": {
      "text/html": [
       "<div>\n",
       "<style scoped>\n",
       "    .dataframe tbody tr th:only-of-type {\n",
       "        vertical-align: middle;\n",
       "    }\n",
       "\n",
       "    .dataframe tbody tr th {\n",
       "        vertical-align: top;\n",
       "    }\n",
       "\n",
       "    .dataframe thead th {\n",
       "        text-align: right;\n",
       "    }\n",
       "</style>\n",
       "<table border=\"1\" class=\"dataframe\">\n",
       "  <thead>\n",
       "    <tr style=\"text-align: right;\">\n",
       "      <th></th>\n",
       "      <th>Age</th>\n",
       "      <th>Income</th>\n",
       "      <th>Debts</th>\n",
       "      <th>Credit_Score</th>\n",
       "      <th>Loan_Amount</th>\n",
       "      <th>Defaulted</th>\n",
       "    </tr>\n",
       "  </thead>\n",
       "  <tbody>\n",
       "    <tr>\n",
       "      <th>count</th>\n",
       "      <td>200.00000</td>\n",
       "      <td>200.000000</td>\n",
       "      <td>200.000000</td>\n",
       "      <td>200.000000</td>\n",
       "      <td>200.00000</td>\n",
       "      <td>200.000000</td>\n",
       "    </tr>\n",
       "    <tr>\n",
       "      <th>mean</th>\n",
       "      <td>43.08500</td>\n",
       "      <td>84394.265000</td>\n",
       "      <td>26038.675000</td>\n",
       "      <td>566.165000</td>\n",
       "      <td>27713.81500</td>\n",
       "      <td>0.565000</td>\n",
       "    </tr>\n",
       "    <tr>\n",
       "      <th>std</th>\n",
       "      <td>13.18663</td>\n",
       "      <td>37641.563776</td>\n",
       "      <td>14097.171705</td>\n",
       "      <td>169.119825</td>\n",
       "      <td>13626.11331</td>\n",
       "      <td>0.497001</td>\n",
       "    </tr>\n",
       "    <tr>\n",
       "      <th>min</th>\n",
       "      <td>21.00000</td>\n",
       "      <td>25327.000000</td>\n",
       "      <td>2201.000000</td>\n",
       "      <td>302.000000</td>\n",
       "      <td>5552.00000</td>\n",
       "      <td>0.000000</td>\n",
       "    </tr>\n",
       "    <tr>\n",
       "      <th>25%</th>\n",
       "      <td>32.00000</td>\n",
       "      <td>47600.250000</td>\n",
       "      <td>12877.250000</td>\n",
       "      <td>413.750000</td>\n",
       "      <td>15166.75000</td>\n",
       "      <td>0.000000</td>\n",
       "    </tr>\n",
       "    <tr>\n",
       "      <th>50%</th>\n",
       "      <td>43.50000</td>\n",
       "      <td>86613.000000</td>\n",
       "      <td>25460.000000</td>\n",
       "      <td>562.500000</td>\n",
       "      <td>28642.50000</td>\n",
       "      <td>1.000000</td>\n",
       "    </tr>\n",
       "    <tr>\n",
       "      <th>75%</th>\n",
       "      <td>55.00000</td>\n",
       "      <td>114359.750000</td>\n",
       "      <td>38185.750000</td>\n",
       "      <td>711.250000</td>\n",
       "      <td>39477.00000</td>\n",
       "      <td>1.000000</td>\n",
       "    </tr>\n",
       "    <tr>\n",
       "      <th>max</th>\n",
       "      <td>65.00000</td>\n",
       "      <td>149997.000000</td>\n",
       "      <td>49917.000000</td>\n",
       "      <td>843.000000</td>\n",
       "      <td>49664.00000</td>\n",
       "      <td>1.000000</td>\n",
       "    </tr>\n",
       "  </tbody>\n",
       "</table>\n",
       "</div>"
      ],
      "text/plain": [
       "             Age         Income         Debts  Credit_Score  Loan_Amount  \\\n",
       "count  200.00000     200.000000    200.000000    200.000000    200.00000   \n",
       "mean    43.08500   84394.265000  26038.675000    566.165000  27713.81500   \n",
       "std     13.18663   37641.563776  14097.171705    169.119825  13626.11331   \n",
       "min     21.00000   25327.000000   2201.000000    302.000000   5552.00000   \n",
       "25%     32.00000   47600.250000  12877.250000    413.750000  15166.75000   \n",
       "50%     43.50000   86613.000000  25460.000000    562.500000  28642.50000   \n",
       "75%     55.00000  114359.750000  38185.750000    711.250000  39477.00000   \n",
       "max     65.00000  149997.000000  49917.000000    843.000000  49664.00000   \n",
       "\n",
       "        Defaulted  \n",
       "count  200.000000  \n",
       "mean     0.565000  \n",
       "std      0.497001  \n",
       "min      0.000000  \n",
       "25%      0.000000  \n",
       "50%      1.000000  \n",
       "75%      1.000000  \n",
       "max      1.000000  "
      ]
     },
     "execution_count": 11,
     "metadata": {},
     "output_type": "execute_result"
    }
   ],
   "source": [
    "df.describe()"
   ]
  },
  {
   "cell_type": "markdown",
   "id": "bdd49f6e",
   "metadata": {},
   "source": [
    "# CHECKING NULL VALUE"
   ]
  },
  {
   "cell_type": "code",
   "execution_count": 12,
   "id": "d2dcf381",
   "metadata": {},
   "outputs": [
    {
     "data": {
      "text/plain": [
       "Age                  0\n",
       "Income               0\n",
       "Debts                0\n",
       "Payment_History      0\n",
       "Credit_Score         0\n",
       "Loan_Amount          0\n",
       "Loan_Purpose         0\n",
       "Employment_Status    0\n",
       "Marital_Status       0\n",
       "Defaulted            0\n",
       "dtype: int64"
      ]
     },
     "execution_count": 12,
     "metadata": {},
     "output_type": "execute_result"
    }
   ],
   "source": [
    "df.isnull().sum()"
   ]
  },
  {
   "cell_type": "markdown",
   "id": "bc5282dd",
   "metadata": {},
   "source": [
    " # Feature engineering"
   ]
  },
  {
   "cell_type": "code",
   "execution_count": 13,
   "id": "22248896",
   "metadata": {},
   "outputs": [],
   "source": [
    "df[\"Debt_to_Income\"] = df[\"Debts\"] / df[\"Income\"]\n"
   ]
  },
  {
   "cell_type": "code",
   "execution_count": 17,
   "id": "12277d26",
   "metadata": {},
   "outputs": [],
   "source": [
    "import pandas as pd\n",
    "import numpy as np\n"
   ]
  },
  {
   "cell_type": "markdown",
   "id": "a0638692",
   "metadata": {},
   "source": [
    "# Safe drop for Customer_ID column"
   ]
  },
  {
   "cell_type": "code",
   "execution_count": 15,
   "id": "3c06874b",
   "metadata": {},
   "outputs": [],
   "source": [
    "if 'Customer_ID' in df.columns:\n",
    "    df.drop(columns=[\"Customer_ID\"], inplace=True)"
   ]
  },
  {
   "cell_type": "markdown",
   "id": "03653d38",
   "metadata": {},
   "source": [
    "# Separate numeric and non-numeric columns"
   ]
  },
  {
   "cell_type": "code",
   "execution_count": 18,
   "id": "389cba37",
   "metadata": {},
   "outputs": [],
   "source": [
    "numeric_cols = df.select_dtypes(include=[np.number])\n",
    "non_numeric_cols = df.select_dtypes(exclude=[np.number])\n"
   ]
  },
  {
   "cell_type": "markdown",
   "id": "0d53da29",
   "metadata": {},
   "source": [
    "# Fill missing values in numeric columns"
   ]
  },
  {
   "cell_type": "code",
   "execution_count": 19,
   "id": "8a72daa5",
   "metadata": {},
   "outputs": [],
   "source": [
    "numeric_cols.fillna(numeric_cols.mean(), inplace=True)"
   ]
  },
  {
   "cell_type": "markdown",
   "id": "5bc8d8de",
   "metadata": {},
   "source": [
    "# Combine numeric and non-numeric columns back together"
   ]
  },
  {
   "cell_type": "code",
   "execution_count": 21,
   "id": "13f8a73a",
   "metadata": {},
   "outputs": [],
   "source": [
    "df_cleaned = pd.concat([numeric_cols, non_numeric_cols], axis=1)"
   ]
  },
  {
   "cell_type": "markdown",
   "id": "19edb27d",
   "metadata": {},
   "source": [
    "# Preview cleaned data"
   ]
  },
  {
   "cell_type": "code",
   "execution_count": 22,
   "id": "726a7785",
   "metadata": {},
   "outputs": [
    {
     "name": "stdout",
     "output_type": "stream",
     "text": [
      "   Age  Income  Debts  Credit_Score  Loan_Amount  Defaulted  Debt_to_Income  \\\n",
      "0   33   46555  46090           787        43139          1        0.990012   \n",
      "1   41   54526   4930           698        35978          1        0.090416   \n",
      "2   62   79956  36687           797        48501          0        0.458840   \n",
      "3   43   52520  39467           694        24795          1        0.751466   \n",
      "4   32   85756  47655           840        14702          1        0.555705   \n",
      "\n",
      "  Payment_History Loan_Purpose Employment_Status Marital_Status  \n",
      "0      No history         Home           Retired        Widowed  \n",
      "1            Late         Home        Unemployed         Single  \n",
      "2          Missed      Medical           Retired        Married  \n",
      "3          Missed    Education        Unemployed        Married  \n",
      "4      No history      Medical           Student        Widowed  \n"
     ]
    }
   ],
   "source": [
    "print(df_cleaned.head())"
   ]
  },
  {
   "cell_type": "markdown",
   "id": "902f5df2",
   "metadata": {},
   "source": [
    "# Separate columns by type"
   ]
  },
  {
   "cell_type": "code",
   "execution_count": 23,
   "id": "0dc12203",
   "metadata": {},
   "outputs": [],
   "source": [
    "numeric_cols = df.select_dtypes(include=[np.number])\n",
    "non_numeric_cols = df.select_dtypes(exclude=[np.number])"
   ]
  },
  {
   "cell_type": "markdown",
   "id": "1bc47b50",
   "metadata": {},
   "source": [
    "# Fill missing values in numeric columns with mean"
   ]
  },
  {
   "cell_type": "code",
   "execution_count": 24,
   "id": "20044a34",
   "metadata": {},
   "outputs": [],
   "source": [
    "numeric_cols.fillna(numeric_cols.mean(), inplace=True)"
   ]
  },
  {
   "cell_type": "markdown",
   "id": "c0292900",
   "metadata": {},
   "source": [
    "# Fill missing values in non-numeric columns with mode"
   ]
  },
  {
   "cell_type": "code",
   "execution_count": 25,
   "id": "b98d42d2",
   "metadata": {},
   "outputs": [],
   "source": [
    "for col in non_numeric_cols.columns:\n",
    "    non_numeric_cols[col].fillna(non_numeric_cols[col].mode()[0], inplace=True)\n"
   ]
  },
  {
   "cell_type": "markdown",
   "id": "95a5f423",
   "metadata": {},
   "source": [
    "# Recombine into one cleaned DataFrame"
   ]
  },
  {
   "cell_type": "code",
   "execution_count": 26,
   "id": "32dea444",
   "metadata": {},
   "outputs": [],
   "source": [
    "data = pd.concat([numeric_cols, non_numeric_cols], axis=1)"
   ]
  },
  {
   "cell_type": "code",
   "execution_count": 27,
   "id": "a10be189",
   "metadata": {},
   "outputs": [
    {
     "name": "stdout",
     "output_type": "stream",
     "text": [
      "   Age  Income  Debts  Credit_Score  Loan_Amount  Defaulted  Debt_to_Income  \\\n",
      "0   33   46555  46090           787        43139          1        0.990012   \n",
      "1   41   54526   4930           698        35978          1        0.090416   \n",
      "2   62   79956  36687           797        48501          0        0.458840   \n",
      "3   43   52520  39467           694        24795          1        0.751466   \n",
      "4   32   85756  47655           840        14702          1        0.555705   \n",
      "\n",
      "  Payment_History Loan_Purpose Employment_Status Marital_Status  \n",
      "0      No history         Home           Retired        Widowed  \n",
      "1            Late         Home        Unemployed         Single  \n",
      "2          Missed      Medical           Retired        Married  \n",
      "3          Missed    Education        Unemployed        Married  \n",
      "4      No history      Medical           Student        Widowed  \n"
     ]
    }
   ],
   "source": [
    "print(data.head())"
   ]
  },
  {
   "cell_type": "markdown",
   "id": "42dde640",
   "metadata": {},
   "source": [
    "# DROP MISSING VALUES"
   ]
  },
  {
   "cell_type": "markdown",
   "id": "3b085672",
   "metadata": {},
   "source": [
    "# Separate columns by type"
   ]
  },
  {
   "cell_type": "code",
   "execution_count": 28,
   "id": "9584f599",
   "metadata": {},
   "outputs": [],
   "source": [
    "numeric_cols = data.select_dtypes(include=[np.number])\n",
    "non_numeric_cols = data.select_dtypes(exclude=[np.number])"
   ]
  },
  {
   "cell_type": "markdown",
   "id": "4af3e697",
   "metadata": {},
   "source": [
    "# Fill missing values"
   ]
  },
  {
   "cell_type": "code",
   "execution_count": 29,
   "id": "f06b7a05",
   "metadata": {},
   "outputs": [],
   "source": [
    "numeric_cols.fillna(numeric_cols.mean(), inplace=True)\n",
    "for col in non_numeric_cols.columns:\n",
    "    non_numeric_cols[col].fillna(non_numeric_cols[col].mode()[0], inplace=True)"
   ]
  },
  {
   "cell_type": "markdown",
   "id": "8ac57e59",
   "metadata": {},
   "source": [
    "# Combine back"
   ]
  },
  {
   "cell_type": "code",
   "execution_count": 30,
   "id": "1bf7094f",
   "metadata": {},
   "outputs": [],
   "source": [
    "data = pd.concat([numeric_cols, non_numeric_cols], axis=1)"
   ]
  },
  {
   "cell_type": "markdown",
   "id": "1d116def",
   "metadata": {},
   "source": [
    "# Final safety step: drop any remaining rows with NaNs"
   ]
  },
  {
   "cell_type": "code",
   "execution_count": 31,
   "id": "9846b9ab",
   "metadata": {},
   "outputs": [],
   "source": [
    "data.dropna(inplace=True)"
   ]
  },
  {
   "cell_type": "markdown",
   "id": "72afe426",
   "metadata": {},
   "source": [
    "# Print any remaining missing values (should be 0s)"
   ]
  },
  {
   "cell_type": "code",
   "execution_count": 32,
   "id": "f9afb6cc",
   "metadata": {},
   "outputs": [
    {
     "name": "stdout",
     "output_type": "stream",
     "text": [
      "Missing values after cleaning:\n",
      " Age                  0\n",
      "Income               0\n",
      "Debts                0\n",
      "Credit_Score         0\n",
      "Loan_Amount          0\n",
      "Defaulted            0\n",
      "Debt_to_Income       0\n",
      "Payment_History      0\n",
      "Loan_Purpose         0\n",
      "Employment_Status    0\n",
      "Marital_Status       0\n",
      "dtype: int64\n"
     ]
    }
   ],
   "source": [
    "missing_values = data.isnull().sum()\n",
    "print(\"Missing values after cleaning:\\n\", missing_values)"
   ]
  },
  {
   "cell_type": "markdown",
   "id": "8cb5f59e",
   "metadata": {},
   "source": [
    "# CHECKING SHAPE OF DATA"
   ]
  },
  {
   "cell_type": "code",
   "execution_count": 33,
   "id": "b68fc235",
   "metadata": {},
   "outputs": [
    {
     "data": {
      "text/plain": [
       "(200, 11)"
      ]
     },
     "execution_count": 33,
     "metadata": {},
     "output_type": "execute_result"
    }
   ],
   "source": [
    "data.shape"
   ]
  },
  {
   "cell_type": "markdown",
   "id": "08322086",
   "metadata": {},
   "source": [
    "# CHECKING OUTLIERS"
   ]
  },
  {
   "cell_type": "code",
   "execution_count": 34,
   "id": "b9e39228",
   "metadata": {},
   "outputs": [
    {
     "data": {
      "image/png": "[encoded data removed]",
      "text/plain": [
       "<Figure size 2000x600 with 2 Axes>"
      ]
     },
     "metadata": {},
     "output_type": "display_data"
    }
   ],
   "source": [
    "import pandas as pd\n",
    "import numpy as np\n",
    "import matplotlib.pyplot as plt\n",
    "\n",
    "# Step 1: Select numeric columns\n",
    "numeric_cols = data.select_dtypes(include=[np.number])\n",
    "\n",
    "# Step 2: Visualize boxplot before outlier removal\n",
    "plt.figure(figsize=(20, 6))\n",
    "plt.subplot(1, 2, 1)\n",
    "numeric_cols.boxplot()\n",
    "plt.title(\"Before Outlier Removal\")\n",
    "\n",
    "# Step 3: Calculate IQR and remove outliers\n",
    "Q1 = numeric_cols.quantile(0.25)\n",
    "Q3 = numeric_cols.quantile(0.75)\n",
    "IQR = Q3 - Q1\n",
    "\n",
    "# Apply the IQR filter row-wise\n",
    "data_cleaned = data[~((numeric_cols < (Q1 - 1.5 * IQR)) | (numeric_cols > (Q3 + 1.5 * IQR))).any(axis=1)]\n",
    "\n",
    "# Step 4: Visualize boxplot after outlier removal\n",
    "plt.subplot(1, 2, 2)\n",
    "data_cleaned.select_dtypes(include=[np.number]).boxplot()\n",
    "plt.title(\"After Outlier Removal\")\n",
    "\n",
    "plt.tight_layout()\n",
    "plt.show()"
   ]
  },
  {
   "cell_type": "markdown",
   "id": "87b9b285",
   "metadata": {},
   "source": [
    "# DATA TRANSFORMATION"
   ]
  },
  {
   "cell_type": "code",
   "execution_count": 35,
   "id": "cd107ea8",
   "metadata": {},
   "outputs": [
    {
     "name": "stdout",
     "output_type": "stream",
     "text": [
      "Scaled data shape: (200, 11)\n",
      "\n",
      "************************************************************\n",
      "        Age    Income     Debts  Credit_Score  Loan_Amount  Defaulted  \\\n",
      "0  0.272727  0.170274  0.919796      0.896488     0.852081        1.0   \n",
      "1  0.454545  0.234210  0.057193      0.731978     0.689744        1.0   \n",
      "2  0.931818  0.438189  0.722735      0.914972     0.973635        0.0   \n",
      "3  0.500000  0.218120  0.780996      0.724584     0.436231        1.0   \n",
      "4  0.250000  0.484712  0.952595      0.994455     0.207427        1.0   \n",
      "\n",
      "   Debt_to_Income Payment_History Loan_Purpose Employment_Status  \\\n",
      "0        0.604651      No history         Home           Retired   \n",
      "1        0.043226            Late         Home        Unemployed   \n",
      "2        0.273154          Missed      Medical           Retired   \n",
      "3        0.455778          Missed    Education        Unemployed   \n",
      "4        0.333606      No history      Medical           Student   \n",
      "\n",
      "  Marital_Status  \n",
      "0        Widowed  \n",
      "1         Single  \n",
      "2        Married  \n",
      "3        Married  \n",
      "4        Widowed  \n"
     ]
    }
   ],
   "source": [
    "import pandas as pd\n",
    "import numpy as np\n",
    "from sklearn.preprocessing import MinMaxScaler\n",
    "\n",
    "# Separate numeric and non-numeric columns\n",
    "numeric_cols = data.select_dtypes(include=[np.number])\n",
    "non_numeric_cols = data.select_dtypes(exclude=[np.number])\n",
    "\n",
    "# Initialize and apply MinMaxScaler\n",
    "scaler = MinMaxScaler()\n",
    "scaled_numeric_data = scaler.fit_transform(numeric_cols)\n",
    "\n",
    "# Convert scaled data back to DataFrame\n",
    "scaled_numeric_df = pd.DataFrame(scaled_numeric_data, columns=numeric_cols.columns)\n",
    "\n",
    "# Reset index to align rows before concatenation\n",
    "non_numeric_cols.reset_index(drop=True, inplace=True)\n",
    "\n",
    "# Combine scaled numeric data with original categorical columns\n",
    "scaled_data = pd.concat([scaled_numeric_df, non_numeric_cols], axis=1)\n",
    "\n",
    "# Output the result\n",
    "print(f\"Scaled data shape: {scaled_data.shape}\")\n",
    "print(\"\\n\" + \"*\" * 60)\n",
    "print(scaled_data.head())"
   ]
  },
  {
   "cell_type": "markdown",
   "id": "665d3655",
   "metadata": {},
   "source": [
    "# STANDARIZATION\n"
   ]
  },
  {
   "cell_type": "code",
   "execution_count": 36,
   "id": "d4e25ae4",
   "metadata": {},
   "outputs": [
    {
     "name": "stdout",
     "output_type": "stream",
     "text": [
      "Scaled data shape: (200, 10)\n",
      "************************************************************\n",
      "        Age    Income     Debts  Credit_Score  Loan_Amount  Defaulted  \\\n",
      "0 -0.766709 -1.007775  1.425934      1.309067     1.134872   0.877446   \n",
      "1 -0.158511 -0.795483 -1.501127      0.781492     0.608018   0.877446   \n",
      "2  1.438007 -0.118205  0.757247      1.368345     1.529369  -1.139671   \n",
      "3 -0.006462 -0.848909  0.954945      0.757781    -0.214745   0.877446   \n",
      "4 -0.842734  0.036267  1.537228      1.623241    -0.957314   0.877446   \n",
      "\n",
      "   Payment_History  Loan_Purpose  Employment_Status  Marital_Status  \n",
      "0                2             2                  1               3  \n",
      "1                0             2                  4               2  \n",
      "2                1             3                  1               1  \n",
      "3                1             1                  4               1  \n",
      "4                2             3                  3               3  \n"
     ]
    }
   ],
   "source": [
    "import pandas as pd\n",
    "import numpy as np\n",
    "from sklearn.preprocessing import StandardScaler, LabelEncoder\n",
    "\n",
    "# Load the dataset\n",
    "df = pd.read_excel(\"Complex_Credit_Scoring_Dataset.xlsx\", sheet_name=\"Sheet1\")\n",
    "\n",
    "# Drop 'Customer_ID' if it exists\n",
    "if 'Customer_ID' in df.columns:\n",
    "    df.drop(columns=['Customer_ID'], inplace=True)\n",
    "\n",
    "# Separate numeric and non-numeric columns\n",
    "numeric_cols = df.select_dtypes(include=[np.number])\n",
    "non_numeric_cols = df.select_dtypes(exclude=[np.number])\n",
    "\n",
    "# Fill missing values\n",
    "numeric_cols.fillna(numeric_cols.mean(), inplace=True)\n",
    "for col in non_numeric_cols.columns:\n",
    "    non_numeric_cols[col].fillna(non_numeric_cols[col].mode()[0], inplace=True)\n",
    "\n",
    "# Scale numeric features\n",
    "scaler = StandardScaler()\n",
    "scaled_numeric = scaler.fit_transform(numeric_cols)\n",
    "scaled_numeric_df = pd.DataFrame(scaled_numeric, columns=numeric_cols.columns)\n",
    "\n",
    "# Combine numeric + categorical\n",
    "non_numeric_cols.reset_index(drop=True, inplace=True)\n",
    "scaled_data = pd.concat([scaled_numeric_df, non_numeric_cols], axis=1)\n",
    "\n",
    "# Label Encode categorical columns\n",
    "label_enc = LabelEncoder()\n",
    "for col in scaled_data.select_dtypes(exclude=[np.number]).columns:\n",
    "    scaled_data[col] = label_enc.fit_transform(scaled_data[col])\n",
    "\n",
    "# Final shape and preview\n",
    "print(f\"Scaled data shape: {scaled_data.shape}\")\n",
    "print(\"*\" * 60)\n",
    "print(scaled_data.head())"
   ]
  },
  {
   "cell_type": "markdown",
   "id": "65c27995",
   "metadata": {},
   "source": [
    "# Train-Test Split and Standardization"
   ]
  },
  {
   "cell_type": "code",
   "execution_count": 37,
   "id": "2ad0bab8",
   "metadata": {},
   "outputs": [],
   "source": [
    "categorical_cols = [\"Payment_History\", \"Loan_Purpose\", \"Employment_Status\", \"Marital_Status\"]\n",
    "df[categorical_cols] = df[categorical_cols].apply(LabelEncoder().fit_transform)\n"
   ]
  },
  {
   "cell_type": "code",
   "execution_count": 38,
   "id": "5b8b67e9",
   "metadata": {},
   "outputs": [],
   "source": [
    "X = df.drop(columns=[\"Defaulted\"])\n",
    "y = df[\"Defaulted\"]\n"
   ]
  },
  {
   "cell_type": "code",
   "execution_count": 39,
   "id": "542d5334",
   "metadata": {},
   "outputs": [],
   "source": [
    "scaler = StandardScaler()\n",
    "X_scaled = scaler.fit_transform(X)"
   ]
  },
  {
   "cell_type": "code",
   "execution_count": 40,
   "id": "917831ec",
   "metadata": {},
   "outputs": [],
   "source": [
    "X_train, X_test, y_train, y_test = train_test_split(X_scaled, y, test_size=0.2, random_state=42)"
   ]
  },
  {
   "cell_type": "code",
   "execution_count": 41,
   "id": "5cc485e1",
   "metadata": {},
   "outputs": [
    {
     "data": {
      "text/html": [
       "<style>#sk-container-id-1 {color: black;}#sk-container-id-1 pre{padding: 0;}#sk-container-id-1 div.sk-toggleable {background-color: white;}#sk-container-id-1 label.sk-toggleable__label {cursor: pointer;display: block;width: 100%;margin-bottom: 0;padding: 0.3em;box-sizing: border-box;text-align: center;}#sk-container-id-1 label.sk-toggleable__label-arrow:before {content: \"▸\";float: left;margin-right: 0.25em;color: #696969;}#sk-container-id-1 label.sk-toggleable__label-arrow:hover:before {color: black;}#sk-container-id-1 div.sk-estimator:hover label.sk-toggleable__label-arrow:before {color: black;}#sk-container-id-1 div.sk-toggleable__content {max-height: 0;max-width: 0;overflow: hidden;text-align: left;background-color: #f0f8ff;}#sk-container-id-1 div.sk-toggleable__content pre {margin: 0.2em;color: black;border-radius: 0.25em;background-color: #f0f8ff;}#sk-container-id-1 input.sk-toggleable__control:checked~div.sk-toggleable__content {max-height: 200px;max-width: 100%;overflow: auto;}#sk-container-id-1 input.sk-toggleable__control:checked~label.sk-toggleable__label-arrow:before {content: \"▾\";}#sk-container-id-1 div.sk-estimator input.sk-toggleable__control:checked~label.sk-toggleable__label {background-color: #d4ebff;}#sk-container-id-1 div.sk-label input.sk-toggleable__control:checked~label.sk-toggleable__label {background-color: #d4ebff;}#sk-container-id-1 input.sk-hidden--visually {border: 0;clip: rect(1px 1px 1px 1px);clip: rect(1px, 1px, 1px, 1px);height: 1px;margin: -1px;overflow: hidden;padding: 0;position: absolute;width: 1px;}#sk-container-id-1 div.sk-estimator {font-family: monospace;background-color: #f0f8ff;border: 1px dotted black;border-radius: 0.25em;box-sizing: border-box;margin-bottom: 0.5em;}#sk-container-id-1 div.sk-estimator:hover {background-color: #d4ebff;}#sk-container-id-1 div.sk-parallel-item::after {content: \"\";width: 100%;border-bottom: 1px solid gray;flex-grow: 1;}#sk-container-id-1 div.sk-label:hover label.sk-toggleable__label {background-color: #d4ebff;}#sk-container-id-1 div.sk-serial::before {content: \"\";position: absolute;border-left: 1px solid gray;box-sizing: border-box;top: 0;bottom: 0;left: 50%;z-index: 0;}#sk-container-id-1 div.sk-serial {display: flex;flex-direction: column;align-items: center;background-color: white;padding-right: 0.2em;padding-left: 0.2em;position: relative;}#sk-container-id-1 div.sk-item {position: relative;z-index: 1;}#sk-container-id-1 div.sk-parallel {display: flex;align-items: stretch;justify-content: center;background-color: white;position: relative;}#sk-container-id-1 div.sk-item::before, #sk-container-id-1 div.sk-parallel-item::before {content: \"\";position: absolute;border-left: 1px solid gray;box-sizing: border-box;top: 0;bottom: 0;left: 50%;z-index: -1;}#sk-container-id-1 div.sk-parallel-item {display: flex;flex-direction: column;z-index: 1;position: relative;background-color: white;}#sk-container-id-1 div.sk-parallel-item:first-child::after {align-self: flex-end;width: 50%;}#sk-container-id-1 div.sk-parallel-item:last-child::after {align-self: flex-start;width: 50%;}#sk-container-id-1 div.sk-parallel-item:only-child::after {width: 0;}#sk-container-id-1 div.sk-dashed-wrapped {border: 1px dashed gray;margin: 0 0.4em 0.5em 0.4em;box-sizing: border-box;padding-bottom: 0.4em;background-color: white;}#sk-container-id-1 div.sk-label label {font-family: monospace;font-weight: bold;display: inline-block;line-height: 1.2em;}#sk-container-id-1 div.sk-label-container {text-align: center;}#sk-container-id-1 div.sk-container {/* jupyter's `normalize.less` sets `[hidden] { display: none; }` but bootstrap.min.css set `[hidden] { display: none !important; }` so we also need the `!important` here to be able to override the default hidden behavior on the sphinx rendered scikit-learn.org. See: https://github.com/scikit-learn/scikit-learn/issues/21755 */display: inline-block !important;position: relative;}#sk-container-id-1 div.sk-text-repr-fallback {display: none;}</style><div id=\"sk-container-id-1\" class=\"sk-top-container\"><div class=\"sk-text-repr-fallback\"><pre>RandomForestClassifier(random_state=42)</pre><b>In a Jupyter environment, please rerun this cell to show the HTML representation or trust the notebook. <br />On GitHub, the HTML representation is unable to render, please try loading this page with nbviewer.org.</b></div><div class=\"sk-container\" hidden><div class=\"sk-item\"><div class=\"sk-estimator sk-toggleable\"><input class=\"sk-toggleable__control sk-hidden--visually\" id=\"sk-estimator-id-1\" type=\"checkbox\" checked><label for=\"sk-estimator-id-1\" class=\"sk-toggleable__label sk-toggleable__label-arrow\">RandomForestClassifier</label><div class=\"sk-toggleable__content\"><pre>RandomForestClassifier(random_state=42)</pre></div></div></div></div></div>"
      ],
      "text/plain": [
       "RandomForestClassifier(random_state=42)"
      ]
     },
     "execution_count": 41,
     "metadata": {},
     "output_type": "execute_result"
    }
   ],
   "source": [
    "model = RandomForestClassifier(n_estimators=100, random_state=42)\n",
    "model.fit(X_train, y_train)\n"
   ]
  },
  {
   "cell_type": "markdown",
   "id": "98c5ce29",
   "metadata": {},
   "source": [
    "# Predictions and probability scores"
   ]
  },
  {
   "cell_type": "code",
   "execution_count": 42,
   "id": "a8c7aadb",
   "metadata": {},
   "outputs": [],
   "source": [
    "\n",
    "y_pred = model.predict(X_test)\n",
    "y_proba = model.predict_proba(X_test)[:, 1]"
   ]
  },
  {
   "cell_type": "code",
   "execution_count": 44,
   "id": "b2d327af",
   "metadata": {},
   "outputs": [
    {
     "name": "stdout",
     "output_type": "stream",
     "text": [
      "Before balancing: Counter({1: 90, 0: 70})\n",
      "After balancing: Counter({1: 90, 0: 90})\n",
      "\n",
      "Classification Report:\n",
      "\n",
      "              precision    recall  f1-score   support\n",
      "\n",
      "           0       0.55      0.65      0.59        17\n",
      "           1       0.70      0.61      0.65        23\n",
      "\n",
      "    accuracy                           0.62        40\n",
      "   macro avg       0.62      0.63      0.62        40\n",
      "weighted avg       0.64      0.62      0.63        40\n",
      "\n"
     ]
    }
   ],
   "source": [
    "from sklearn.model_selection import train_test_split\n",
    "from sklearn.linear_model import LogisticRegression\n",
    "from sklearn.metrics import classification_report\n",
    "from imblearn.over_sampling import SMOTE\n",
    "from collections import Counter\n",
    "\n",
    "# FIX: Use the original (unscaled) target from df\n",
    "y = df[\"Defaulted\"]  # unscaled original target\n",
    "X = scaled_data.drop(columns=[\"Defaulted\"])  # all features are scaled\n",
    "\n",
    "# Train-test split\n",
    "X_train, X_test, y_train, y_test = train_test_split(\n",
    "    X, y, test_size=0.2, random_state=42, stratify=y\n",
    ")\n",
    "\n",
    "# Apply SMOTE\n",
    "smote = SMOTE(random_state=42)\n",
    "X_train_bal, y_train_bal = smote.fit_resample(X_train, y_train)\n",
    "\n",
    "# Check class distribution\n",
    "print(\"Before balancing:\", Counter(y_train))\n",
    "print(\"After balancing:\", Counter(y_train_bal))\n",
    "\n",
    "# Train model\n",
    "model = LogisticRegression(max_iter=1000, class_weight='balanced')\n",
    "model.fit(X_train_bal, y_train_bal)\n",
    "\n",
    "# Predictions\n",
    "y_pred = model.predict(X_test)\n",
    "\n",
    "# Evaluation\n",
    "print(\"\\nClassification Report:\\n\")\n",
    "print(classification_report(y_test, y_pred, zero_division=0))\n"
   ]
  },
  {
   "cell_type": "markdown",
   "id": "49cd55de",
   "metadata": {},
   "source": [
    "# Artificial Neural Network (ANN)"
   ]
  },
  {
   "cell_type": "code",
   "execution_count": 45,
   "id": "343caed5",
   "metadata": {},
   "outputs": [
    {
     "name": "stdout",
     "output_type": "stream",
     "text": [
      "Before balancing: Counter({1: 90, 0: 70})\n",
      "After balancing: Counter({1: 90, 0: 90})\n"
     ]
    },
    {
     "name": "stderr",
     "output_type": "stream",
     "text": [
      "C:\\Users\\ideal\\AppData\\Roaming\\Python\\Python311\\site-packages\\keras\\src\\layers\\core\\dense.py:87: UserWarning: Do not pass an `input_shape`/`input_dim` argument to a layer. When using Sequential models, prefer using an `Input(shape)` object as the first layer in the model instead.\n",
      "  super().__init__(activity_regularizer=activity_regularizer, **kwargs)\n"
     ]
    },
    {
     "name": "stdout",
     "output_type": "stream",
     "text": [
      "Epoch 1/100\n",
      "\u001b[1m9/9\u001b[0m \u001b[32m━━━━━━━━━━━━━━━━━━━━\u001b[0m\u001b[37m\u001b[0m \u001b[1m2s\u001b[0m 51ms/step - accuracy: 0.5664 - loss: 0.7013 - val_accuracy: 0.2778 - val_loss: 0.7586\n",
      "Epoch 2/100\n",
      "\u001b[1m9/9\u001b[0m \u001b[32m━━━━━━━━━━━━━━━━━━━━\u001b[0m\u001b[37m\u001b[0m \u001b[1m0s\u001b[0m 19ms/step - accuracy: 0.4279 - loss: 0.7525 - val_accuracy: 0.3333 - val_loss: 0.7301\n",
      "Epoch 3/100\n",
      "\u001b[1m9/9\u001b[0m \u001b[32m━━━━━━━━━━━━━━━━━━━━\u001b[0m\u001b[37m\u001b[0m \u001b[1m0s\u001b[0m 16ms/step - accuracy: 0.5042 - loss: 0.7301 - val_accuracy: 0.3889 - val_loss: 0.7277\n",
      "Epoch 4/100\n",
      "\u001b[1m9/9\u001b[0m \u001b[32m━━━━━━━━━━━━━━━━━━━━\u001b[0m\u001b[37m\u001b[0m \u001b[1m0s\u001b[0m 14ms/step - accuracy: 0.5788 - loss: 0.6734 - val_accuracy: 0.3611 - val_loss: 0.7345\n",
      "Epoch 5/100\n",
      "\u001b[1m9/9\u001b[0m \u001b[32m━━━━━━━━━━━━━━━━━━━━\u001b[0m\u001b[37m\u001b[0m \u001b[1m0s\u001b[0m 19ms/step - accuracy: 0.5070 - loss: 0.7306 - val_accuracy: 0.3611 - val_loss: 0.7301\n",
      "Epoch 6/100\n",
      "\u001b[1m9/9\u001b[0m \u001b[32m━━━━━━━━━━━━━━━━━━━━\u001b[0m\u001b[37m\u001b[0m \u001b[1m0s\u001b[0m 16ms/step - accuracy: 0.5275 - loss: 0.7171 - val_accuracy: 0.3611 - val_loss: 0.7323\n",
      "Epoch 7/100\n",
      "\u001b[1m9/9\u001b[0m \u001b[32m━━━━━━━━━━━━━━━━━━━━\u001b[0m\u001b[37m\u001b[0m \u001b[1m0s\u001b[0m 18ms/step - accuracy: 0.6207 - loss: 0.6687 - val_accuracy: 0.3611 - val_loss: 0.7287\n",
      "Epoch 8/100\n",
      "\u001b[1m9/9\u001b[0m \u001b[32m━━━━━━━━━━━━━━━━━━━━\u001b[0m\u001b[37m\u001b[0m \u001b[1m0s\u001b[0m 15ms/step - accuracy: 0.5885 - loss: 0.6675 - val_accuracy: 0.3611 - val_loss: 0.7205\n",
      "Epoch 9/100\n",
      "\u001b[1m9/9\u001b[0m \u001b[32m━━━━━━━━━━━━━━━━━━━━\u001b[0m\u001b[37m\u001b[0m \u001b[1m0s\u001b[0m 18ms/step - accuracy: 0.5809 - loss: 0.6683 - val_accuracy: 0.4167 - val_loss: 0.7174\n",
      "Epoch 10/100\n",
      "\u001b[1m9/9\u001b[0m \u001b[32m━━━━━━━━━━━━━━━━━━━━\u001b[0m\u001b[37m\u001b[0m \u001b[1m0s\u001b[0m 16ms/step - accuracy: 0.6113 - loss: 0.6672 - val_accuracy: 0.3889 - val_loss: 0.7115\n",
      "Epoch 11/100\n",
      "\u001b[1m9/9\u001b[0m \u001b[32m━━━━━━━━━━━━━━━━━━━━\u001b[0m\u001b[37m\u001b[0m \u001b[1m0s\u001b[0m 16ms/step - accuracy: 0.6183 - loss: 0.6391 - val_accuracy: 0.3889 - val_loss: 0.7170\n",
      "Epoch 12/100\n",
      "\u001b[1m9/9\u001b[0m \u001b[32m━━━━━━━━━━━━━━━━━━━━\u001b[0m\u001b[37m\u001b[0m \u001b[1m0s\u001b[0m 13ms/step - accuracy: 0.5693 - loss: 0.6671 - val_accuracy: 0.3889 - val_loss: 0.7196\n",
      "Epoch 13/100\n",
      "\u001b[1m9/9\u001b[0m \u001b[32m━━━━━━━━━━━━━━━━━━━━\u001b[0m\u001b[37m\u001b[0m \u001b[1m0s\u001b[0m 11ms/step - accuracy: 0.5357 - loss: 0.6831 - val_accuracy: 0.3889 - val_loss: 0.7174\n",
      "Epoch 14/100\n",
      "\u001b[1m9/9\u001b[0m \u001b[32m━━━━━━━━━━━━━━━━━━━━\u001b[0m\u001b[37m\u001b[0m \u001b[1m0s\u001b[0m 12ms/step - accuracy: 0.6049 - loss: 0.6560 - val_accuracy: 0.3889 - val_loss: 0.7200\n",
      "Epoch 15/100\n",
      "\u001b[1m9/9\u001b[0m \u001b[32m━━━━━━━━━━━━━━━━━━━━\u001b[0m\u001b[37m\u001b[0m \u001b[1m0s\u001b[0m 14ms/step - accuracy: 0.5595 - loss: 0.6774 - val_accuracy: 0.4167 - val_loss: 0.7181\n",
      "Epoch 16/100\n",
      "\u001b[1m9/9\u001b[0m \u001b[32m━━━━━━━━━━━━━━━━━━━━\u001b[0m\u001b[37m\u001b[0m \u001b[1m0s\u001b[0m 14ms/step - accuracy: 0.6938 - loss: 0.6464 - val_accuracy: 0.4167 - val_loss: 0.7193\n",
      "Epoch 17/100\n",
      "\u001b[1m9/9\u001b[0m \u001b[32m━━━━━━━━━━━━━━━━━━━━\u001b[0m\u001b[37m\u001b[0m \u001b[1m0s\u001b[0m 9ms/step - accuracy: 0.5449 - loss: 0.6922 - val_accuracy: 0.4444 - val_loss: 0.7154\n",
      "Epoch 18/100\n",
      "\u001b[1m9/9\u001b[0m \u001b[32m━━━━━━━━━━━━━━━━━━━━\u001b[0m\u001b[37m\u001b[0m \u001b[1m0s\u001b[0m 11ms/step - accuracy: 0.5789 - loss: 0.6613 - val_accuracy: 0.4444 - val_loss: 0.7114\n",
      "Epoch 19/100\n",
      "\u001b[1m9/9\u001b[0m \u001b[32m━━━━━━━━━━━━━━━━━━━━\u001b[0m\u001b[37m\u001b[0m \u001b[1m0s\u001b[0m 10ms/step - accuracy: 0.6656 - loss: 0.6590 - val_accuracy: 0.4444 - val_loss: 0.7140\n",
      "Epoch 20/100\n",
      "\u001b[1m9/9\u001b[0m \u001b[32m━━━━━━━━━━━━━━━━━━━━\u001b[0m\u001b[37m\u001b[0m \u001b[1m0s\u001b[0m 13ms/step - accuracy: 0.6055 - loss: 0.6568 - val_accuracy: 0.4722 - val_loss: 0.7146\n",
      "Epoch 21/100\n",
      "\u001b[1m9/9\u001b[0m \u001b[32m━━━━━━━━━━━━━━━━━━━━\u001b[0m\u001b[37m\u001b[0m \u001b[1m0s\u001b[0m 13ms/step - accuracy: 0.6698 - loss: 0.6437 - val_accuracy: 0.4444 - val_loss: 0.7159\n",
      "Epoch 22/100\n",
      "\u001b[1m9/9\u001b[0m \u001b[32m━━━━━━━━━━━━━━━━━━━━\u001b[0m\u001b[37m\u001b[0m \u001b[1m0s\u001b[0m 11ms/step - accuracy: 0.6327 - loss: 0.6393 - val_accuracy: 0.4722 - val_loss: 0.7142\n",
      "Epoch 23/100\n",
      "\u001b[1m9/9\u001b[0m \u001b[32m━━━━━━━━━━━━━━━━━━━━\u001b[0m\u001b[37m\u001b[0m \u001b[1m0s\u001b[0m 11ms/step - accuracy: 0.6421 - loss: 0.6465 - val_accuracy: 0.4722 - val_loss: 0.7147\n",
      "Epoch 24/100\n",
      "\u001b[1m9/9\u001b[0m \u001b[32m━━━━━━━━━━━━━━━━━━━━\u001b[0m\u001b[37m\u001b[0m \u001b[1m0s\u001b[0m 12ms/step - accuracy: 0.7305 - loss: 0.6171 - val_accuracy: 0.4444 - val_loss: 0.7156\n",
      "Epoch 25/100\n",
      "\u001b[1m9/9\u001b[0m \u001b[32m━━━━━━━━━━━━━━━━━━━━\u001b[0m\u001b[37m\u001b[0m \u001b[1m0s\u001b[0m 10ms/step - accuracy: 0.6261 - loss: 0.6513 - val_accuracy: 0.4722 - val_loss: 0.7143\n",
      "Epoch 26/100\n",
      "\u001b[1m9/9\u001b[0m \u001b[32m━━━━━━━━━━━━━━━━━━━━\u001b[0m\u001b[37m\u001b[0m \u001b[1m0s\u001b[0m 11ms/step - accuracy: 0.5769 - loss: 0.6266 - val_accuracy: 0.4722 - val_loss: 0.7137\n",
      "Epoch 27/100\n",
      "\u001b[1m9/9\u001b[0m \u001b[32m━━━━━━━━━━━━━━━━━━━━\u001b[0m\u001b[37m\u001b[0m \u001b[1m0s\u001b[0m 11ms/step - accuracy: 0.5742 - loss: 0.6701 - val_accuracy: 0.4722 - val_loss: 0.7151\n",
      "Epoch 28/100\n",
      "\u001b[1m9/9\u001b[0m \u001b[32m━━━━━━━━━━━━━━━━━━━━\u001b[0m\u001b[37m\u001b[0m \u001b[1m0s\u001b[0m 10ms/step - accuracy: 0.5639 - loss: 0.6401 - val_accuracy: 0.5278 - val_loss: 0.7092\n",
      "Epoch 29/100\n",
      "\u001b[1m9/9\u001b[0m \u001b[32m━━━━━━━━━━━━━━━━━━━━\u001b[0m\u001b[37m\u001b[0m \u001b[1m0s\u001b[0m 13ms/step - accuracy: 0.6179 - loss: 0.6694 - val_accuracy: 0.5278 - val_loss: 0.7036\n",
      "Epoch 30/100\n",
      "\u001b[1m9/9\u001b[0m \u001b[32m━━━━━━━━━━━━━━━━━━━━\u001b[0m\u001b[37m\u001b[0m \u001b[1m0s\u001b[0m 11ms/step - accuracy: 0.6722 - loss: 0.6291 - val_accuracy: 0.5278 - val_loss: 0.6990\n",
      "Epoch 31/100\n",
      "\u001b[1m9/9\u001b[0m \u001b[32m━━━━━━━━━━━━━━━━━━━━\u001b[0m\u001b[37m\u001b[0m \u001b[1m0s\u001b[0m 11ms/step - accuracy: 0.6650 - loss: 0.6268 - val_accuracy: 0.5278 - val_loss: 0.6909\n",
      "Epoch 32/100\n",
      "\u001b[1m9/9\u001b[0m \u001b[32m━━━━━━━━━━━━━━━━━━━━\u001b[0m\u001b[37m\u001b[0m \u001b[1m0s\u001b[0m 12ms/step - accuracy: 0.6881 - loss: 0.6344 - val_accuracy: 0.5278 - val_loss: 0.6932\n",
      "Epoch 33/100\n",
      "\u001b[1m9/9\u001b[0m \u001b[32m━━━━━━━━━━━━━━━━━━━━\u001b[0m\u001b[37m\u001b[0m \u001b[1m0s\u001b[0m 12ms/step - accuracy: 0.7135 - loss: 0.6161 - val_accuracy: 0.5278 - val_loss: 0.6998\n",
      "Epoch 34/100\n",
      "\u001b[1m9/9\u001b[0m \u001b[32m━━━━━━━━━━━━━━━━━━━━\u001b[0m\u001b[37m\u001b[0m \u001b[1m0s\u001b[0m 13ms/step - accuracy: 0.6325 - loss: 0.6446 - val_accuracy: 0.5000 - val_loss: 0.7104\n",
      "Epoch 35/100\n",
      "\u001b[1m9/9\u001b[0m \u001b[32m━━━━━━━━━━━━━━━━━━━━\u001b[0m\u001b[37m\u001b[0m \u001b[1m0s\u001b[0m 10ms/step - accuracy: 0.6655 - loss: 0.6047 - val_accuracy: 0.5000 - val_loss: 0.7138\n",
      "Epoch 36/100\n",
      "\u001b[1m9/9\u001b[0m \u001b[32m━━━━━━━━━━━━━━━━━━━━\u001b[0m\u001b[37m\u001b[0m \u001b[1m0s\u001b[0m 13ms/step - accuracy: 0.5985 - loss: 0.6217 - val_accuracy: 0.5000 - val_loss: 0.7128\n",
      "Epoch 37/100\n",
      "\u001b[1m9/9\u001b[0m \u001b[32m━━━━━━━━━━━━━━━━━━━━\u001b[0m\u001b[37m\u001b[0m \u001b[1m0s\u001b[0m 10ms/step - accuracy: 0.5607 - loss: 0.6604 - val_accuracy: 0.5278 - val_loss: 0.7062\n",
      "Epoch 38/100\n",
      "\u001b[1m9/9\u001b[0m \u001b[32m━━━━━━━━━━━━━━━━━━━━\u001b[0m\u001b[37m\u001b[0m \u001b[1m0s\u001b[0m 9ms/step - accuracy: 0.5841 - loss: 0.6206 - val_accuracy: 0.5278 - val_loss: 0.7034\n",
      "Epoch 39/100\n",
      "\u001b[1m9/9\u001b[0m \u001b[32m━━━━━━━━━━━━━━━━━━━━\u001b[0m\u001b[37m\u001b[0m \u001b[1m0s\u001b[0m 9ms/step - accuracy: 0.6533 - loss: 0.6421 - val_accuracy: 0.5000 - val_loss: 0.6976\n",
      "Epoch 40/100\n",
      "\u001b[1m9/9\u001b[0m \u001b[32m━━━━━━━━━━━━━━━━━━━━\u001b[0m\u001b[37m\u001b[0m \u001b[1m0s\u001b[0m 13ms/step - accuracy: 0.6922 - loss: 0.5819 - val_accuracy: 0.5278 - val_loss: 0.6954\n",
      "Epoch 41/100\n",
      "\u001b[1m9/9\u001b[0m \u001b[32m━━━━━━━━━━━━━━━━━━━━\u001b[0m\u001b[37m\u001b[0m \u001b[1m0s\u001b[0m 12ms/step - accuracy: 0.6992 - loss: 0.6031 - val_accuracy: 0.5278 - val_loss: 0.7027\n",
      "\u001b[1m2/2\u001b[0m \u001b[32m━━━━━━━━━━━━━━━━━━━━\u001b[0m\u001b[37m\u001b[0m \u001b[1m0s\u001b[0m 61ms/step\n",
      "\n",
      "Classification Report:\n",
      "\n",
      "              precision    recall  f1-score   support\n",
      "\n",
      "           0       0.54      0.41      0.47        17\n",
      "           1       0.63      0.74      0.68        23\n",
      "\n",
      "    accuracy                           0.60        40\n",
      "   macro avg       0.58      0.58      0.57        40\n",
      "weighted avg       0.59      0.60      0.59        40\n",
      "\n"
     ]
    }
   ],
   "source": [
    "import numpy as np\n",
    "import pandas as pd\n",
    "from sklearn.model_selection import train_test_split\n",
    "from sklearn.metrics import classification_report\n",
    "from sklearn.preprocessing import LabelEncoder\n",
    "from imblearn.over_sampling import SMOTE\n",
    "from collections import Counter\n",
    "from tensorflow.keras.models import Sequential\n",
    "from tensorflow.keras.layers import Dense, Dropout\n",
    "from tensorflow.keras.optimizers import Adam\n",
    "from tensorflow.keras.callbacks import EarlyStopping\n",
    "\n",
    "# Target and Features\n",
    "y = df[\"Defaulted\"]  # use original, unscaled target\n",
    "X = scaled_data.drop(columns=[\"Defaulted\"])  # scaled features\n",
    "\n",
    "# Encode y if it's not already numeric\n",
    "if y.dtype == 'object':\n",
    "    le = LabelEncoder()\n",
    "    y = le.fit_transform(y)\n",
    "\n",
    "# Train-test split\n",
    "X_train, X_test, y_train, y_test = train_test_split(\n",
    "    X, y, test_size=0.2, random_state=42, stratify=y\n",
    ")\n",
    "\n",
    "# Apply SMOTE\n",
    "smote = SMOTE(random_state=42)\n",
    "X_train_bal, y_train_bal = smote.fit_resample(X_train, y_train)\n",
    "\n",
    "print(\"Before balancing:\", Counter(y_train))\n",
    "print(\"After balancing:\", Counter(y_train_bal))\n",
    "\n",
    "# ANN Model\n",
    "model = Sequential()\n",
    "model.add(Dense(64, input_dim=X.shape[1], activation='relu'))\n",
    "model.add(Dropout(0.3))\n",
    "model.add(Dense(32, activation='relu'))\n",
    "model.add(Dropout(0.3))\n",
    "model.add(Dense(1, activation='sigmoid'))  # Binary classification\n",
    "\n",
    "# Compile\n",
    "model.compile(optimizer=Adam(learning_rate=0.001), loss='binary_crossentropy', metrics=['accuracy'])\n",
    "\n",
    "# Train\n",
    "early_stop = EarlyStopping(monitor='val_loss', patience=10, restore_best_weights=True)\n",
    "history = model.fit(X_train_bal, y_train_bal, \n",
    "                    validation_split=0.2,\n",
    "                    epochs=100, batch_size=16, callbacks=[early_stop], verbose=1)\n",
    "\n",
    "# Predict\n",
    "y_pred_prob = model.predict(X_test)\n",
    "y_pred = (y_pred_prob > 0.5).astype(\"int32\")\n",
    "\n",
    "# Report\n",
    "print(\"\\nClassification Report:\\n\")\n",
    "print(classification_report(y_test, y_pred))"
   ]
  },
  {
   "cell_type": "markdown",
   "id": "23094750",
   "metadata": {},
   "source": [
    "# evaluate model"
   ]
  },
  {
   "cell_type": "code",
   "execution_count": 50,
   "id": "3d548fb7",
   "metadata": {},
   "outputs": [
    {
     "name": "stdout",
     "output_type": "stream",
     "text": [
      "\u001b[1m2/2\u001b[0m \u001b[32m━━━━━━━━━━━━━━━━━━━━\u001b[0m\u001b[37m\u001b[0m \u001b[1m0s\u001b[0m 57ms/step - accuracy: 0.6083 - loss: 0.6595\n",
      "Test Accuracy: 0.6000\n",
      "\u001b[1m2/2\u001b[0m \u001b[32m━━━━━━━━━━━━━━━━━━━━\u001b[0m\u001b[37m\u001b[0m \u001b[1m0s\u001b[0m 42ms/step\n",
      "ANN Classification Report:\n",
      "\n",
      "              precision    recall  f1-score   support\n",
      "\n",
      "           0       0.54      0.41      0.47        17\n",
      "           1       0.63      0.74      0.68        23\n",
      "\n",
      "    accuracy                           0.60        40\n",
      "   macro avg       0.58      0.58      0.57        40\n",
      "weighted avg       0.59      0.60      0.59        40\n",
      "\n"
     ]
    }
   ],
   "source": [
    "# Evaluate the model\n",
    "loss, accuracy = model.evaluate(X_test, y_test)\n",
    "print(f\"Test Accuracy: {accuracy:.4f}\")\n",
    "\n",
    "# Predict on test set\n",
    "y_pred_ann = (model.predict(X_test) > 0.5).astype(\"int32\")\n",
    "\n",
    "# Classification Report\n",
    "from sklearn.metrics import classification_report\n",
    "print(\"ANN Classification Report:\\n\")\n",
    "print(classification_report(y_test, y_pred_ann))\n"
   ]
  },
  {
   "cell_type": "markdown",
   "id": "b38d6861",
   "metadata": {},
   "source": [
    "# confusion matrix"
   ]
  },
  {
   "cell_type": "code",
   "execution_count": 51,
   "id": "6b9b08c8",
   "metadata": {},
   "outputs": [
    {
     "name": "stdout",
     "output_type": "stream",
     "text": [
      "\u001b[1m2/2\u001b[0m \u001b[32m━━━━━━━━━━━━━━━━━━━━\u001b[0m\u001b[37m\u001b[0m \u001b[1m0s\u001b[0m 50ms/step\n"
     ]
    },
    {
     "data": {
      "image/png": "[encoded data removed]",
      "text/plain": [
       "<Figure size 640x480 with 2 Axes>"
      ]
     },
     "metadata": {},
     "output_type": "display_data"
    }
   ],
   "source": [
    "from sklearn.metrics import confusion_matrix, ConfusionMatrixDisplay\n",
    "import matplotlib.pyplot as plt\n",
    "\n",
    "# Predict on test data\n",
    "y_pred_ann = (model.predict(X_test) > 0.5).astype(\"int32\")\n",
    "\n",
    "# Generate confusion matrix\n",
    "cm = confusion_matrix(y_test, y_pred_ann)\n",
    "\n",
    "# Display the confusion matrix\n",
    "disp = ConfusionMatrixDisplay(confusion_matrix=cm, display_labels=[\"Bad\", \"Good\"])\n",
    "disp.plot(cmap=plt.cm.Blues)\n",
    "plt.title(\"Confusion Matrix - ANN\")\n",
    "plt.show()\n"
   ]
  },
  {
   "cell_type": "markdown",
   "id": "b3fcd7d3",
   "metadata": {},
   "source": [
    "# random forest"
   ]
  },
  {
   "cell_type": "code",
   "execution_count": 72,
   "id": "a8ce7af5",
   "metadata": {},
   "outputs": [
    {
     "name": "stdout",
     "output_type": "stream",
     "text": [
      "📊 Classification Report:\n",
      "               precision    recall  f1-score   support\n",
      "\n",
      "           0       0.44      0.41      0.42        17\n",
      "           1       0.58      0.61      0.60        23\n",
      "\n",
      "    accuracy                           0.53        40\n",
      "   macro avg       0.51      0.51      0.51        40\n",
      "weighted avg       0.52      0.53      0.52        40\n",
      "\n",
      "🧾 Confusion Matrix:\n",
      " [[ 7 10]\n",
      " [ 9 14]]\n"
     ]
    },
    {
     "data": {
      "image/png": "[encoded data removed]",
      "text/plain": [
       "<Figure size 1000x600 with 1 Axes>"
      ]
     },
     "metadata": {},
     "output_type": "display_data"
    }
   ],
   "source": [
    "import pandas as pd\n",
    "import numpy as np\n",
    "from sklearn.model_selection import train_test_split\n",
    "from sklearn.ensemble import RandomForestClassifier\n",
    "from sklearn.metrics import classification_report, confusion_matrix\n",
    "import matplotlib.pyplot as plt\n",
    "\n",
    "# 1. Load dataset\n",
    "data = pd.read_excel(\"C:/Users/ideal/Downloads/Complex_Credit_Scoring_Dataset.xlsx\")\n",
    "\n",
    "# 2. Drop missing values\n",
    "data.dropna(inplace=True)\n",
    "\n",
    "# 3. Set target column\n",
    "target_column = \"Defaulted\"  # Change made here\n",
    "\n",
    "# 4. Drop non-feature columns like ID\n",
    "data = data.drop(columns=[\"Customer_ID\"])\n",
    "\n",
    "# 5. Encode categorical features\n",
    "categorical_cols = data.select_dtypes(include=\"object\").columns\n",
    "data = pd.get_dummies(data, columns=categorical_cols, drop_first=True)\n",
    "\n",
    "# 6. Split features and target\n",
    "X = data.drop(columns=[target_column])\n",
    "y = data[target_column]\n",
    "\n",
    "# 7. Train/Test Split\n",
    "X_train, X_test, y_train, y_test = train_test_split(X, y, test_size=0.2, stratify=y, random_state=42)\n",
    "\n",
    "# 8. Train Random Forest Classifier\n",
    "model = RandomForestClassifier(n_estimators=100, random_state=42)\n",
    "model.fit(X_train, y_train)\n",
    "\n",
    "# 9. Predict and Evaluate\n",
    "y_pred = model.predict(X_test)\n",
    "print(\" Classification Report:\\n\", classification_report(y_test, y_pred))\n",
    "print(\" Confusion Matrix:\\n\", confusion_matrix(y_test, y_pred))\n",
    "\n",
    "# 10. Plot Feature Importances\n",
    "importances = model.feature_importances_\n",
    "features = X.columns\n",
    "indices = np.argsort(importances)[::-1]\n",
    "\n",
    "plt.figure(figsize=(10, 6))\n",
    "plt.title(\"Feature Importances\")\n",
    "plt.bar(range(X.shape[1]), importances[indices], color=\"skyblue\", align=\"center\")\n",
    "plt.xticks(range(X.shape[1]), features[indices], rotation=45, ha=\"right\")\n",
    "plt.tight_layout()\n",
    "plt.show()\n",
    "\n"
   ]
  },
  {
   "cell_type": "code",
   "execution_count": 73,
   "id": "098947ab",
   "metadata": {},
   "outputs": [
    {
     "data": {
      "image/png": "[encoded data removed]",
      "text/plain": [
       "<Figure size 640x480 with 2 Axes>"
      ]
     },
     "metadata": {},
     "output_type": "display_data"
    }
   ],
   "source": [
    "import matplotlib.pyplot as plt\n",
    "from sklearn.metrics import confusion_matrix, ConfusionMatrixDisplay\n",
    "\n",
    "# Predict\n",
    "y_pred = model.predict(X_test)\n",
    "\n",
    "# Plot Confusion Matrix\n",
    "cm = confusion_matrix(y_test, y_pred)\n",
    "disp = ConfusionMatrixDisplay(confusion_matrix=cm, display_labels=model.classes_)\n",
    "disp.plot(cmap=plt.cm.Blues)\n",
    "plt.title(\"Confusion Matrix\")\n",
    "plt.show()\n"
   ]
  },
  {
   "cell_type": "markdown",
   "id": "7f73791e",
   "metadata": {},
   "source": [
    "# Model Comparison"
   ]
  },
  {
   "cell_type": "code",
   "execution_count": 74,
   "id": "fb89b1e6",
   "metadata": {},
   "outputs": [
    {
     "name": "stdout",
     "output_type": "stream",
     "text": [
      "\n",
      "Logistic Regression Classification Report:\n",
      "              precision    recall  f1-score   support\n",
      "\n",
      "           0       0.50      0.06      0.11        17\n",
      "           1       0.58      0.96      0.72        23\n",
      "\n",
      "    accuracy                           0.57        40\n",
      "   macro avg       0.54      0.51      0.41        40\n",
      "weighted avg       0.55      0.57      0.46        40\n",
      "\n",
      "\n",
      "Decision Tree Classification Report:\n",
      "              precision    recall  f1-score   support\n",
      "\n",
      "           0       0.41      0.41      0.41        17\n",
      "           1       0.57      0.57      0.57        23\n",
      "\n",
      "    accuracy                           0.50        40\n",
      "   macro avg       0.49      0.49      0.49        40\n",
      "weighted avg       0.50      0.50      0.50        40\n",
      "\n",
      "\n",
      "Random Forest Classification Report:\n",
      "              precision    recall  f1-score   support\n",
      "\n",
      "           0       0.23      0.18      0.20        17\n",
      "           1       0.48      0.57      0.52        23\n",
      "\n",
      "    accuracy                           0.40        40\n",
      "   macro avg       0.36      0.37      0.36        40\n",
      "weighted avg       0.37      0.40      0.38        40\n",
      "\n"
     ]
    }
   ],
   "source": [
    "from sklearn.linear_model import LogisticRegression\n",
    "from sklearn.tree import DecisionTreeClassifier\n",
    "\n",
    "models = {\n",
    "    \"Logistic Regression\": LogisticRegression(max_iter=1000),\n",
    "    \"Decision Tree\": DecisionTreeClassifier(),\n",
    "    \"Random Forest\": RandomForestClassifier()\n",
    "}\n",
    "\n",
    "for name, model in models.items():\n",
    "    model.fit(X_train, y_train)\n",
    "    y_pred = model.predict(X_test)\n",
    "    print(f\"\\n{name} Classification Report:\")\n",
    "    print(classification_report(y_test, y_pred))\n"
   ]
  },
  {
   "cell_type": "code",
   "execution_count": null,
   "id": "e3644134",
   "metadata": {},
   "outputs": [],
   "source": []
  }
 ],
 "metadata": {
  "kernelspec": {
   "display_name": "Python 3 (ipykernel)",
   "language": "python",
   "name": "python3"
  },
  "language_info": {
   "codemirror_mode": {
    "name": "ipython",
    "version": 3
   },
   "file_extension": ".py",
   "mimetype": "text/x-python",
   "name": "python",
   "nbconvert_exporter": "python",
   "pygments_lexer": "ipython3",
   "version": "3.11.4"
  }
 },
 "nbformat": 4,
 "nbformat_minor": 5
}
